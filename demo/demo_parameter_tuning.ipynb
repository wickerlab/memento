{
 "cells": [
  {
   "attachments": {},
   "cell_type": "markdown",
   "metadata": {},
   "source": [
    "# Demonstration -- Using `MEMENTO` to tune hyperparameters\n",
    "\n",
    "This demo showcases hyperparameter turning using `MEMENTO`.\n",
    "This is similar to `sklearn.model_selection.GridSearchCV`.\n",
    "The advantages of using `MEMENTO` are:\n",
    "\n",
    "1. You have better control on the entire pipeline. This is useful when more than 1 step requires hyperparameter tuning.\n",
    "2. `MEMENTO` caches and checkpoints your results, so if the experiment take a while to run, you don't have to worry about loss your results.\n"
   ]
  },
  {
   "cell_type": "code",
   "execution_count": 1,
   "metadata": {},
   "outputs": [],
   "source": [
    "import functools\n",
    "import logging\n",
    "\n",
    "import numpy as np\n",
    "from sklearn import datasets\n",
    "from sklearn.model_selection import cross_val_score\n",
    "from sklearn.pipeline import make_pipeline\n",
    "from sklearn.preprocessing import StandardScaler\n",
    "from sklearn.svm import SVC\n",
    "\n",
    "from memento import Config, ConsoleNotificationProvider, Context, Memento\n"
   ]
  },
  {
   "cell_type": "code",
   "execution_count": 2,
   "metadata": {},
   "outputs": [],
   "source": [
    "logging.basicConfig(level=logging.INFO)\n"
   ]
  },
  {
   "cell_type": "code",
   "execution_count": 3,
   "metadata": {},
   "outputs": [],
   "source": [
    "# Using `partial` to avoid passing parameter.\n",
    "load_breast_cancer = functools.partial(datasets.load_breast_cancer, return_X_y=True)\n",
    "\n",
    "# Put all parameters in a configuration matrix\n",
    "matrix = {\n",
    "    \"parameters\": {\n",
    "        \"dataset\": [\n",
    "            load_breast_cancer,\n",
    "        ],\n",
    "        \"preprocessing\": [\n",
    "            StandardScaler(),\n",
    "        ],\n",
    "        \"classifier\": [\n",
    "            SVC,\n",
    "        ],\n",
    "        \"svm_C\": [1, 10, 100, 1000],\n",
    "        \"svm_gamma\": [0.001, 0.0001],  # These are the hyperparameters we want to tune.\n",
    "    },\n",
    "    \"settings\": {  # Set global values here\n",
    "        \"n_fold\": 5,  # Running a 5-fold CV\n",
    "    },\n",
    "}\n"
   ]
  },
  {
   "cell_type": "code",
   "execution_count": 4,
   "metadata": {},
   "outputs": [],
   "source": [
    "def experiment(context: Context, config: Config):\n",
    "    \"\"\"This block contains the experiment with one set of parameters.\"\"\"\n",
    "    if context.checkpoint_exist():\n",
    "        scores = context.restore()\n",
    "    else:\n",
    "        # Access parameter:\n",
    "        X, y = config.dataset()\n",
    "        svm_C = config.svm_C\n",
    "        svm_gamma = config.svm_gamma\n",
    "        clf = config.classifier(C=svm_C, gamma=svm_gamma)\n",
    "\n",
    "        # Access the global constant:\n",
    "        cv = config.settings[\"n_fold\"]\n",
    "\n",
    "        # Build and run the pipeline:\n",
    "        pipeline = make_pipeline(config.preprocessing, clf)\n",
    "        scores = cross_val_score(pipeline, X, y, cv=cv)\n",
    "\n",
    "        # Save results to the checkpoint:\n",
    "        context.checkpoint(scores)\n",
    "    return scores.mean() * 100\n"
   ]
  },
  {
   "cell_type": "code",
   "execution_count": 5,
   "metadata": {},
   "outputs": [
    {
     "name": "stderr",
     "output_type": "stream",
     "text": [
      "INFO:memento.memento:Running configurations:\n",
      "INFO:memento.memento:  {'dataset': functools.partial(<function load_breast_cancer at 0x00000295FB2D33A0>, return_X_y=True), 'preprocessing': StandardScaler(), 'classifier': <class 'sklearn.svm._classes.SVC'>, 'svm_C': 1, 'svm_gamma': 0.001}\n",
      "INFO:memento.memento:  {'dataset': functools.partial(<function load_breast_cancer at 0x00000295FB2D33A0>, return_X_y=True), 'preprocessing': StandardScaler(), 'classifier': <class 'sklearn.svm._classes.SVC'>, 'svm_C': 1, 'svm_gamma': 0.0001}\n",
      "INFO:memento.memento:  {'dataset': functools.partial(<function load_breast_cancer at 0x00000295FB2D33A0>, return_X_y=True), 'preprocessing': StandardScaler(), 'classifier': <class 'sklearn.svm._classes.SVC'>, 'svm_C': 10, 'svm_gamma': 0.001}\n",
      "INFO:memento.memento:  {'dataset': functools.partial(<function load_breast_cancer at 0x00000295FB2D33A0>, return_X_y=True), 'preprocessing': StandardScaler(), 'classifier': <class 'sklearn.svm._classes.SVC'>, 'svm_C': 10, 'svm_gamma': 0.0001}\n",
      "INFO:memento.memento:  {'dataset': functools.partial(<function load_breast_cancer at 0x00000295FB2D33A0>, return_X_y=True), 'preprocessing': StandardScaler(), 'classifier': <class 'sklearn.svm._classes.SVC'>, 'svm_C': 100, 'svm_gamma': 0.001}\n",
      "INFO:memento.memento:  {'dataset': functools.partial(<function load_breast_cancer at 0x00000295FB2D33A0>, return_X_y=True), 'preprocessing': StandardScaler(), 'classifier': <class 'sklearn.svm._classes.SVC'>, 'svm_C': 100, 'svm_gamma': 0.0001}\n",
      "INFO:memento.memento:  {'dataset': functools.partial(<function load_breast_cancer at 0x00000295FB2D33A0>, return_X_y=True), 'preprocessing': StandardScaler(), 'classifier': <class 'sklearn.svm._classes.SVC'>, 'svm_C': 1000, 'svm_gamma': 0.001}\n",
      "INFO:memento.memento:  {'dataset': functools.partial(<function load_breast_cancer at 0x00000295FB2D33A0>, return_X_y=True), 'preprocessing': StandardScaler(), 'classifier': <class 'sklearn.svm._classes.SVC'>, 'svm_C': 1000, 'svm_gamma': 0.0001}\n",
      "INFO:memento.memento:0/8 results retrieved from cache\n"
     ]
    },
    {
     "name": "stdout",
     "output_type": "stream",
     "text": [
      "All tasks completed\n"
     ]
    }
   ],
   "source": [
    "notification_provider = ConsoleNotificationProvider()\n",
    "results = Memento(experiment, notification_provider).run(matrix)\n"
   ]
  },
  {
   "cell_type": "code",
   "execution_count": 6,
   "metadata": {},
   "outputs": [
    {
     "name": "stdout",
     "output_type": "stream",
     "text": [
      "94.73\n",
      "79.62\n",
      "97.01\n",
      "94.73\n",
      "97.01\n",
      "97.19\n",
      "97.37\n",
      "97.19\n"
     ]
    }
   ],
   "source": [
    "avg_accs = np.round([result.inner for result in results], 2)\n",
    "print(*avg_accs, sep=\"\\n\")\n"
   ]
  },
  {
   "cell_type": "code",
   "execution_count": 7,
   "metadata": {},
   "outputs": [
    {
     "name": "stdout",
     "output_type": "stream",
     "text": [
      "         Best result: 97.37\n",
      "Index of best result: 6\n"
     ]
    }
   ],
   "source": [
    "print(\"         Best result:\", np.max(avg_accs))\n",
    "print(\"Index of best result:\", np.argmax(avg_accs))\n"
   ]
  },
  {
   "cell_type": "code",
   "execution_count": null,
   "metadata": {},
   "outputs": [],
   "source": []
  }
 ],
 "metadata": {
  "kernelspec": {
   "display_name": "memento",
   "language": "python",
   "name": "python3"
  },
  "language_info": {
   "codemirror_mode": {
    "name": "ipython",
    "version": 3
   },
   "file_extension": ".py",
   "mimetype": "text/x-python",
   "name": "python",
   "nbconvert_exporter": "python",
   "pygments_lexer": "ipython3",
   "version": "3.9.16"
  },
  "orig_nbformat": 4
 },
 "nbformat": 4,
 "nbformat_minor": 2
}

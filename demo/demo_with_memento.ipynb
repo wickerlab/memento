{
 "cells": [
  {
   "cell_type": "code",
   "execution_count": 1,
   "metadata": {
    "ExecuteTime": {
     "end_time": "2023-05-04T22:59:56.992674800Z",
     "start_time": "2023-05-04T22:59:56.452616Z"
    }
   },
   "outputs": [],
   "source": [
    "from sklearn.datasets import load_digits, load_wine\n",
    "from sklearn.ensemble import AdaBoostClassifier, RandomForestClassifier\n",
    "from sklearn.model_selection import cross_val_score\n",
    "from sklearn.pipeline import make_pipeline\n",
    "from sklearn.preprocessing import MinMaxScaler, StandardScaler\n",
    "from sklearn.svm import SVC\n",
    "import pandas as pd\n",
    "import logging\n",
    "logging.basicConfig(level=logging.INFO)\n"
   ]
  },
  {
   "cell_type": "code",
   "execution_count": 2,
   "outputs": [],
   "source": [
    "from memento import Config, Context, Memento"
   ],
   "metadata": {
    "collapsed": false,
    "ExecuteTime": {
     "end_time": "2023-05-04T22:59:57.076013900Z",
     "start_time": "2023-05-04T22:59:56.993674700Z"
    }
   }
  },
  {
   "cell_type": "markdown",
   "source": [
    "# Setup Configuration Matrix"
   ],
   "metadata": {
    "collapsed": false
   }
  },
  {
   "cell_type": "code",
   "execution_count": 3,
   "metadata": {
    "ExecuteTime": {
     "end_time": "2023-05-04T22:59:57.184327900Z",
     "start_time": "2023-05-04T22:59:57.076013900Z"
    }
   },
   "outputs": [],
   "source": [
    "matrix = {\n",
    "    \"parameters\": {\n",
    "        \"dataset\": [load_digits, load_wine],\n",
    "        \"preprocessing\": [MinMaxScaler(), StandardScaler()],\n",
    "        \"classifier\": [AdaBoostClassifier, RandomForestClassifier, SVC],\n",
    "    },\n",
    "    \"settings\": {\n",
    "        \"n_fold\": 20,\n",
    "    },\n",
    "    \"exclude\": [\n",
    "        {\"dataset\": load_digits, \"classifier\": SVC}\n",
    "    ],\n",
    "}"
   ]
  },
  {
   "cell_type": "markdown",
   "source": [
    "# Setup Experiment Function"
   ],
   "metadata": {
    "collapsed": false
   }
  },
  {
   "cell_type": "code",
   "execution_count": 4,
   "metadata": {
    "ExecuteTime": {
     "end_time": "2023-05-04T22:59:57.190503500Z",
     "start_time": "2023-05-04T22:59:57.185328200Z"
    }
   },
   "outputs": [],
   "source": [
    "def experiment(context: Context, config: Config):\n",
    "    data = config.dataset()\n",
    "    model = config.classifier()\n",
    "\n",
    "    cv = config.settings[\"n_fold\"]\n",
    "\n",
    "    pipeline = make_pipeline(config.preprocessing, model)\n",
    "    results = cross_val_score(pipeline, data.data, data.target, cv=cv)\n",
    "    context.checkpoint(results)\n",
    "    return results.mean() * 100"
   ]
  },
  {
   "cell_type": "markdown",
   "source": [
    "# Run Experiments & Get Results"
   ],
   "metadata": {
    "collapsed": false
   }
  },
  {
   "cell_type": "code",
   "execution_count": 5,
   "metadata": {
    "ExecuteTime": {
     "end_time": "2023-05-04T22:59:57.202255500Z",
     "start_time": "2023-05-04T22:59:57.190503500Z"
    }
   },
   "outputs": [
    {
     "name": "stderr",
     "output_type": "stream",
     "text": [
      "INFO:memento.memento:Running configurations:\n",
      "INFO:memento.memento:  {'dataset': 'load_digits', 'preprocessing': 'MinMaxScaler()', 'classifier': 'AdaBoostClassifier'}\n",
      "INFO:memento.memento:  {'dataset': 'load_digits', 'preprocessing': 'MinMaxScaler()', 'classifier': 'RandomForestClassifier'}\n",
      "INFO:memento.memento:  {'dataset': 'load_digits', 'preprocessing': 'StandardScaler()', 'classifier': 'AdaBoostClassifier'}\n",
      "INFO:memento.memento:  {'dataset': 'load_digits', 'preprocessing': 'StandardScaler()', 'classifier': 'RandomForestClassifier'}\n",
      "INFO:memento.memento:  {'dataset': 'load_wine', 'preprocessing': 'MinMaxScaler()', 'classifier': 'AdaBoostClassifier'}\n",
      "INFO:memento.memento:  {'dataset': 'load_wine', 'preprocessing': 'MinMaxScaler()', 'classifier': 'RandomForestClassifier'}\n",
      "INFO:memento.memento:  {'dataset': 'load_wine', 'preprocessing': 'MinMaxScaler()', 'classifier': 'SVC'}\n",
      "INFO:memento.memento:  {'dataset': 'load_wine', 'preprocessing': 'StandardScaler()', 'classifier': 'AdaBoostClassifier'}\n",
      "INFO:memento.memento:  {'dataset': 'load_wine', 'preprocessing': 'StandardScaler()', 'classifier': 'RandomForestClassifier'}\n",
      "INFO:memento.memento:  {'dataset': 'load_wine', 'preprocessing': 'StandardScaler()', 'classifier': 'SVC'}\n",
      "INFO:memento.memento:Exiting due to dry run\n"
     ]
    }
   ],
   "source": [
    "results = Memento(experiment).run(matrix, dry_run=True)"
   ]
  },
  {
   "cell_type": "code",
   "execution_count": 6,
   "metadata": {
    "ExecuteTime": {
     "end_time": "2023-05-04T22:59:57.268109800Z",
     "start_time": "2023-05-04T22:59:57.202255500Z"
    }
   },
   "outputs": [
    {
     "name": "stderr",
     "output_type": "stream",
     "text": [
      "INFO:memento.memento:Running configurations:\n",
      "INFO:memento.memento:  {'dataset': 'load_digits', 'preprocessing': 'MinMaxScaler()', 'classifier': 'AdaBoostClassifier'}\n",
      "INFO:memento.memento:  {'dataset': 'load_digits', 'preprocessing': 'MinMaxScaler()', 'classifier': 'RandomForestClassifier'}\n",
      "INFO:memento.memento:  {'dataset': 'load_digits', 'preprocessing': 'StandardScaler()', 'classifier': 'AdaBoostClassifier'}\n",
      "INFO:memento.memento:  {'dataset': 'load_digits', 'preprocessing': 'StandardScaler()', 'classifier': 'RandomForestClassifier'}\n",
      "INFO:memento.memento:  {'dataset': 'load_wine', 'preprocessing': 'MinMaxScaler()', 'classifier': 'AdaBoostClassifier'}\n",
      "INFO:memento.memento:  {'dataset': 'load_wine', 'preprocessing': 'MinMaxScaler()', 'classifier': 'RandomForestClassifier'}\n",
      "INFO:memento.memento:  {'dataset': 'load_wine', 'preprocessing': 'MinMaxScaler()', 'classifier': 'SVC'}\n",
      "INFO:memento.memento:  {'dataset': 'load_wine', 'preprocessing': 'StandardScaler()', 'classifier': 'AdaBoostClassifier'}\n",
      "INFO:memento.memento:  {'dataset': 'load_wine', 'preprocessing': 'StandardScaler()', 'classifier': 'RandomForestClassifier'}\n",
      "INFO:memento.memento:  {'dataset': 'load_wine', 'preprocessing': 'StandardScaler()', 'classifier': 'SVC'}\n",
      "INFO:memento.memento:10/10 results retrieved from cache\n"
     ]
    }
   ],
   "source": [
    "results = Memento(experiment).run(matrix)"
   ]
  },
  {
   "cell_type": "code",
   "execution_count": 7,
   "outputs": [],
   "source": [
    "def resultsToTable(results):\n",
    "    res = [[round(r.inner, 2), r.config.dataset.__name__, r.config.preprocessing.__class__.__name__, r.config.classifier.__name__] for r in results]\n",
    "    return pd.DataFrame(res, columns=['Accuracy', 'Dataset', 'Preprocessing', 'Classifier'])"
   ],
   "metadata": {
    "collapsed": false,
    "ExecuteTime": {
     "end_time": "2023-05-04T22:59:57.272108500Z",
     "start_time": "2023-05-04T22:59:57.270111Z"
    }
   }
  },
  {
   "cell_type": "code",
   "execution_count": 8,
   "metadata": {
    "ExecuteTime": {
     "end_time": "2023-05-04T22:59:57.283347600Z",
     "start_time": "2023-05-04T22:59:57.272108500Z"
    }
   },
   "outputs": [
    {
     "data": {
      "text/plain": "   Accuracy      Dataset   Preprocessing              Classifier\n0     27.10  load_digits    MinMaxScaler      AdaBoostClassifier\n1     96.66  load_digits    MinMaxScaler  RandomForestClassifier\n2     27.15  load_digits  StandardScaler      AdaBoostClassifier\n3     96.77  load_digits  StandardScaler  RandomForestClassifier\n4     88.89    load_wine    MinMaxScaler      AdaBoostClassifier\n5     97.78    load_wine    MinMaxScaler  RandomForestClassifier\n6     98.89    load_wine    MinMaxScaler                     SVC\n7     88.33    load_wine  StandardScaler      AdaBoostClassifier\n8     97.78    load_wine  StandardScaler  RandomForestClassifier\n9     98.33    load_wine  StandardScaler                     SVC",
      "text/html": "<div>\n<style scoped>\n    .dataframe tbody tr th:only-of-type {\n        vertical-align: middle;\n    }\n\n    .dataframe tbody tr th {\n        vertical-align: top;\n    }\n\n    .dataframe thead th {\n        text-align: right;\n    }\n</style>\n<table border=\"1\" class=\"dataframe\">\n  <thead>\n    <tr style=\"text-align: right;\">\n      <th></th>\n      <th>Accuracy</th>\n      <th>Dataset</th>\n      <th>Preprocessing</th>\n      <th>Classifier</th>\n    </tr>\n  </thead>\n  <tbody>\n    <tr>\n      <th>0</th>\n      <td>27.10</td>\n      <td>load_digits</td>\n      <td>MinMaxScaler</td>\n      <td>AdaBoostClassifier</td>\n    </tr>\n    <tr>\n      <th>1</th>\n      <td>96.66</td>\n      <td>load_digits</td>\n      <td>MinMaxScaler</td>\n      <td>RandomForestClassifier</td>\n    </tr>\n    <tr>\n      <th>2</th>\n      <td>27.15</td>\n      <td>load_digits</td>\n      <td>StandardScaler</td>\n      <td>AdaBoostClassifier</td>\n    </tr>\n    <tr>\n      <th>3</th>\n      <td>96.77</td>\n      <td>load_digits</td>\n      <td>StandardScaler</td>\n      <td>RandomForestClassifier</td>\n    </tr>\n    <tr>\n      <th>4</th>\n      <td>88.89</td>\n      <td>load_wine</td>\n      <td>MinMaxScaler</td>\n      <td>AdaBoostClassifier</td>\n    </tr>\n    <tr>\n      <th>5</th>\n      <td>97.78</td>\n      <td>load_wine</td>\n      <td>MinMaxScaler</td>\n      <td>RandomForestClassifier</td>\n    </tr>\n    <tr>\n      <th>6</th>\n      <td>98.89</td>\n      <td>load_wine</td>\n      <td>MinMaxScaler</td>\n      <td>SVC</td>\n    </tr>\n    <tr>\n      <th>7</th>\n      <td>88.33</td>\n      <td>load_wine</td>\n      <td>StandardScaler</td>\n      <td>AdaBoostClassifier</td>\n    </tr>\n    <tr>\n      <th>8</th>\n      <td>97.78</td>\n      <td>load_wine</td>\n      <td>StandardScaler</td>\n      <td>RandomForestClassifier</td>\n    </tr>\n    <tr>\n      <th>9</th>\n      <td>98.33</td>\n      <td>load_wine</td>\n      <td>StandardScaler</td>\n      <td>SVC</td>\n    </tr>\n  </tbody>\n</table>\n</div>"
     },
     "execution_count": 8,
     "metadata": {},
     "output_type": "execute_result"
    }
   ],
   "source": [
    "resultsToTable(results)"
   ]
  }
 ],
 "metadata": {
  "kernelspec": {
   "display_name": "Python 3 (ipykernel)",
   "language": "python",
   "name": "python3"
  },
  "language_info": {
   "codemirror_mode": {
    "name": "ipython",
    "version": 3
   },
   "file_extension": ".py",
   "mimetype": "text/x-python",
   "name": "python",
   "nbconvert_exporter": "python",
   "pygments_lexer": "ipython3",
   "version": "3.9.16"
  },
  "vscode": {
   "interpreter": {
    "hash": "e8a14c2cb3206237cd982c8447566eef72ed9b8a95eca3109a9df28d87592576"
   }
  }
 },
 "nbformat": 4,
 "nbformat_minor": 4
}

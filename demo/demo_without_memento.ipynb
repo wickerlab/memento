{
 "cells": [
  {
   "attachments": {},
   "cell_type": "markdown",
   "metadata": {},
   "source": [
    "# Part 1: Demonstration -- A standard machine learning pipeline without Memento\n",
    "\n",
    "To start this project:\n",
    "\n",
    "```bash\n",
    "# Using Python 3.9.x\n",
    "conda create -n memento python=3.9\n",
    "conda activate memento\n",
    "\n",
    "# Install dependencies\n",
    "pip install -r requirements.txt\n",
    "\n",
    "# Install local package\n",
    "pip install .\n",
    "```"
   ]
  },
  {
   "cell_type": "code",
   "execution_count": 1,
   "metadata": {},
   "outputs": [],
   "source": [
    "from sklearn import datasets\n",
    "from sklearn.ensemble import AdaBoostClassifier\n",
    "from sklearn.model_selection import StratifiedKFold\n",
    "from sklearn.preprocessing import MinMaxScaler\n",
    "import numpy as np"
   ]
  },
  {
   "attachments": {},
   "cell_type": "markdown",
   "metadata": {},
   "source": [
    "## Example 1: Train a classifier and return the average score from 5-fold CV"
   ]
  },
  {
   "cell_type": "code",
   "execution_count": 2,
   "metadata": {},
   "outputs": [
    {
     "name": "stdout",
     "output_type": "stream",
     "text": [
      "[MinMax-AdaBoost] Avg. score: 27.88%\n"
     ]
    }
   ],
   "source": [
    "# Load data\n",
    "digits_x, digits_y = datasets.load_digits(return_X_y=True)\n",
    "\n",
    "# Preprocessing\n",
    "minmax_scaler = MinMaxScaler()\n",
    "\n",
    "# Classifiers\n",
    "ada_boost_classifier = AdaBoostClassifier()\n",
    "\n",
    "k_fold = StratifiedKFold(5, shuffle=True)  # Stratified 5-split cross-validation\n",
    "scores = []\n",
    "for train_idx, test_idx in k_fold.split(digits_x, digits_y):\n",
    "    # Split into train-test sets\n",
    "    train_X = digits_x[train_idx]\n",
    "    train_y = digits_y[train_idx]\n",
    "    test_X = digits_x[test_idx]\n",
    "    test_y = digits_y[test_idx]\n",
    "\n",
    "    # Only train the scaler on the training set\n",
    "    train_X = minmax_scaler.fit_transform(train_X)\n",
    "    test_X = minmax_scaler.transform(test_X)\n",
    "\n",
    "    # Train model\n",
    "    ada_boost_classifier.fit(train_X, train_y)\n",
    "    score = ada_boost_classifier.score(test_X, test_y)\n",
    "    scores.append(score)\n",
    "\n",
    "print('[MinMax-AdaBoost] Avg. score: {:.2f}%'.format(np.mean(scores) * 100))"
   ]
  },
  {
   "attachments": {},
   "cell_type": "markdown",
   "metadata": {},
   "source": [
    "## Example 2: Benchmark 2 preprocessing methods and 3 classifiers\n",
    "\n",
    "- `make_pipeline` is used to ensure `scaler` is applied after splitting.\n",
    "- To make the code as short as possible, we use `cross_val_score` which calls `StratifiedKFold` internally by default."
   ]
  },
  {
   "cell_type": "code",
   "execution_count": 3,
   "metadata": {},
   "outputs": [],
   "source": [
    "from sklearn import datasets\n",
    "from sklearn.ensemble import AdaBoostClassifier, RandomForestClassifier\n",
    "from sklearn.model_selection import cross_val_score\n",
    "from sklearn.pipeline import make_pipeline\n",
    "from sklearn.preprocessing import MinMaxScaler, StandardScaler\n",
    "from sklearn.svm import SVC\n",
    "import numpy as np"
   ]
  },
  {
   "cell_type": "code",
   "execution_count": 4,
   "metadata": {},
   "outputs": [],
   "source": [
    "NUM_FOLD = 5\n",
    "\n",
    "def run_dataset(X, y):\n",
    "    \"\"\"Given a dataset, benchmark 2 preprocessing methods and 3 classifiers\n",
    "    Preprocessing methods:\n",
    "    1. No preprocessing\n",
    "    2. Apply MinMax scaler (Rescale features to 0-1)\n",
    "    3. Apply Standard scaler (0 mean, 1 standard deviation)\n",
    "\n",
    "    Classifiers:\n",
    "    1. AdaBoost\n",
    "    2. RandomForest\n",
    "    3. SVM\n",
    "    \"\"\"\n",
    "    # No preprocessing step\n",
    "    pipeline_ada = make_pipeline(AdaBoostClassifier())\n",
    "    pipeline_rf = make_pipeline(RandomForestClassifier())\n",
    "    pipeline_svm = make_pipeline(SVC())\n",
    "\n",
    "    # With MinMax scaler\n",
    "    pipeline_minmax_ada = make_pipeline(MinMaxScaler(), AdaBoostClassifier())\n",
    "    pipeline_minmax_rf = make_pipeline(MinMaxScaler(), RandomForestClassifier())\n",
    "    pipeline_minmax_svm = make_pipeline(MinMaxScaler(), SVC())\n",
    "\n",
    "    # With Standard scaler\n",
    "    pipeline_std_ada = make_pipeline(StandardScaler(), AdaBoostClassifier())\n",
    "    pipeline_std_rf = make_pipeline(StandardScaler(), RandomForestClassifier())\n",
    "    pipeline_std_svm = make_pipeline(StandardScaler(), SVC())\n",
    "\n",
    "    scores = []\n",
    "    avg_score = cross_val_score(pipeline_ada, X, y, cv=NUM_FOLD)\n",
    "    scores.append(('None-AdaBoost', np.mean(avg_score)))\n",
    "    avg_score = cross_val_score(pipeline_rf, X, y, cv=NUM_FOLD)\n",
    "    scores.append(('None-RandomForest', np.mean(avg_score)))\n",
    "    avg_score = cross_val_score(pipeline_svm, X, y, cv=NUM_FOLD)\n",
    "    scores.append(('None-SVM', np.mean(avg_score)))\n",
    "\n",
    "    avg_score = cross_val_score(pipeline_minmax_ada, X, y, cv=NUM_FOLD)\n",
    "    scores.append(('MinMax-AdaBoost', np.mean(avg_score)))\n",
    "    avg_score = cross_val_score(pipeline_minmax_rf, X, y, cv=NUM_FOLD)\n",
    "    scores.append(('MinMax-RandomForest', np.mean(avg_score)))\n",
    "    avg_score = cross_val_score(pipeline_minmax_svm, X, y, cv=NUM_FOLD)\n",
    "    scores.append(('MinMax-SVM', np.mean(avg_score)))\n",
    "\n",
    "    avg_score = cross_val_score(pipeline_std_ada, X, y, cv=NUM_FOLD)\n",
    "    scores.append(('STD-AdaBoost', np.mean(avg_score)))\n",
    "    avg_score = cross_val_score(pipeline_std_rf, X, y, cv=NUM_FOLD)\n",
    "    scores.append(('STD-RandomForest', np.mean(avg_score)))\n",
    "    avg_score = cross_val_score(pipeline_std_svm, X, y, cv=NUM_FOLD)\n",
    "    scores.append(('STD-SVM', np.mean(avg_score)))\n",
    "    return scores"
   ]
  },
  {
   "cell_type": "code",
   "execution_count": 5,
   "metadata": {},
   "outputs": [
    {
     "name": "stdout",
     "output_type": "stream",
     "text": [
      "=== Digits ===\n",
      "[None-AdaBoost       ] Avg. score: 26.71%\n",
      "[None-RandomForest   ] Avg. score: 93.94%\n",
      "[None-SVM            ] Avg. score: 96.33%\n",
      "[MinMax-AdaBoost     ] Avg. score: 26.77%\n",
      "[MinMax-RandomForest ] Avg. score: 93.88%\n",
      "[MinMax-SVM          ] Avg. score: 95.99%\n",
      "[STD-AdaBoost        ] Avg. score: 26.77%\n",
      "[STD-RandomForest    ] Avg. score: 93.32%\n",
      "[STD-SVM             ] Avg. score: 94.60%\n",
      "\n",
      "=== Wine ===\n",
      "[None-AdaBoost       ] Avg. score: 80.84%\n",
      "[None-RandomForest   ] Avg. score: 97.76%\n",
      "[None-SVM            ] Avg. score: 66.35%\n",
      "[MinMax-AdaBoost     ] Avg. score: 80.29%\n",
      "[MinMax-RandomForest ] Avg. score: 97.78%\n",
      "[MinMax-SVM          ] Avg. score: 97.76%\n",
      "[STD-AdaBoost        ] Avg. score: 80.29%\n",
      "[STD-RandomForest    ] Avg. score: 97.21%\n",
      "[STD-SVM             ] Avg. score: 98.33%\n",
      "\n",
      "=== Breast Cancer ===\n",
      "[None-AdaBoost       ] Avg. score: 97.01%\n",
      "[None-RandomForest   ] Avg. score: 95.96%\n",
      "[None-SVM            ] Avg. score: 91.22%\n",
      "[MinMax-AdaBoost     ] Avg. score: 97.19%\n",
      "[MinMax-RandomForest ] Avg. score: 96.14%\n",
      "[MinMax-SVM          ] Avg. score: 97.54%\n",
      "[STD-AdaBoost        ] Avg. score: 97.01%\n",
      "[STD-RandomForest    ] Avg. score: 96.14%\n",
      "[STD-SVM             ] Avg. score: 97.36%\n"
     ]
    }
   ],
   "source": [
    "digits_x, digits_y = datasets.load_digits(return_X_y=True)\n",
    "scores = run_dataset(digits_x, digits_y)\n",
    "print('=== Digits ===')\n",
    "for name, score in scores:\n",
    "    print('[{:20s}] Avg. score: {:.2f}%'.format(name, score * 100))\n",
    "\n",
    "wine_x, wine_y = datasets.load_wine(return_X_y=True)\n",
    "scores = run_dataset(wine_x, wine_y)\n",
    "print('\\n=== Wine ===')\n",
    "for name, score in scores:\n",
    "    print('[{:20s}] Avg. score: {:.2f}%'.format(name, score * 100))\n",
    "\n",
    "breast_x, breast_y = datasets.load_breast_cancer(return_X_y=True)\n",
    "scores = run_dataset(breast_x, breast_y)\n",
    "print('\\n=== Breast Cancer ===')\n",
    "for name, score in scores:\n",
    "    print('[{:20s}] Avg. score: {:.2f}%'.format(name, score * 100))\n"
   ]
  }
 ],
 "metadata": {
  "kernelspec": {
   "display_name": "Python 3",
   "language": "python",
   "name": "python3"
  },
  "language_info": {
   "codemirror_mode": {
    "name": "ipython",
    "version": 3
   },
   "file_extension": ".py",
   "mimetype": "text/x-python",
   "name": "python",
   "nbconvert_exporter": "python",
   "pygments_lexer": "ipython3",
   "version": "3.9.16"
  },
  "orig_nbformat": 4,
  "vscode": {
   "interpreter": {
    "hash": "e8a14c2cb3206237cd982c8447566eef72ed9b8a95eca3109a9df28d87592576"
   }
  }
 },
 "nbformat": 4,
 "nbformat_minor": 2
}
